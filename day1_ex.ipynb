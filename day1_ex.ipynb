{
  "nbformat": 4,
  "nbformat_minor": 0,
  "metadata": {
    "colab": {
      "name": "day1_ex.ipynb",
      "provenance": [],
      "authorship_tag": "ABX9TyOiv+/7UH7/Rdx3feLg3oIu",
      "include_colab_link": true
    },
    "kernelspec": {
      "name": "python3",
      "display_name": "Python 3"
    }
  },
  "cells": [
    {
      "cell_type": "markdown",
      "metadata": {
        "id": "view-in-github",
        "colab_type": "text"
      },
      "source": [
        "<a href=\"https://colab.research.google.com/github/thebest527/Java/blob/master/day1_ex.ipynb\" target=\"_parent\"><img src=\"https://colab.research.google.com/assets/colab-badge.svg\" alt=\"Open In Colab\"/></a>"
      ]
    },
    {
      "cell_type": "markdown",
      "metadata": {
        "id": "idmk57z6nhG3",
        "colab_type": "text"
      },
      "source": [
        "# 파일썬 1일차"
      ]
    },
    {
      "cell_type": "code",
      "metadata": {
        "id": "zpakIJDrg44_",
        "colab_type": "code",
        "colab": {
          "base_uri": "https://localhost:8080/",
          "height": 34
        },
        "outputId": "b77db806-58ab-4cfd-9f15-dab3c1806dea"
      },
      "source": [
        "\n",
        "print(\"Hello\")"
      ],
      "execution_count": null,
      "outputs": [
        {
          "output_type": "stream",
          "text": [
            "Hello\n"
          ],
          "name": "stdout"
        }
      ]
    },
    {
      "cell_type": "code",
      "metadata": {
        "id": "pwwEILtqitSP",
        "colab_type": "code",
        "colab": {
          "base_uri": "https://localhost:8080/",
          "height": 87
        },
        "outputId": "dccab718-d8dc-4163-8fd9-9d4741ddc623"
      },
      "source": [
        "name = \"크라운 마이쮸 딸기맛\"\n",
        "price = 500\n",
        "capacity = 44.0\n",
        "eDate = \"20.09.23\"\n",
        "\n",
        "print(name)\n",
        "print(price)\n",
        "print(capacity)\n",
        "print(eDate)"
      ],
      "execution_count": null,
      "outputs": [
        {
          "output_type": "stream",
          "text": [
            "크라운 마이쮸 딸기맛\n",
            "500\n",
            "44.0\n",
            "20.09.23\n"
          ],
          "name": "stdout"
        }
      ]
    },
    {
      "cell_type": "code",
      "metadata": {
        "id": "678qSBZzjXdk",
        "colab_type": "code",
        "colab": {
          "base_uri": "https://localhost:8080/",
          "height": 87
        },
        "outputId": "18b4e883-8eb4-44a4-a839-28b03e4255e0"
      },
      "source": [
        "print(type(name))\n",
        "print(type(eDate))\n",
        "print(type(price)) #500\n",
        "print(type(capacity)) #44.0"
      ],
      "execution_count": null,
      "outputs": [
        {
          "output_type": "stream",
          "text": [
            "<class 'str'>\n",
            "<class 'str'>\n",
            "<class 'int'>\n",
            "<class 'float'>\n"
          ],
          "name": "stdout"
        }
      ]
    },
    {
      "cell_type": "code",
      "metadata": {
        "id": "sCpNOiUdjr6l",
        "colab_type": "code",
        "colab": {
          "base_uri": "https://localhost:8080/",
          "height": 52
        },
        "outputId": "e5b7c077-998d-41e7-f0c1-46f9768d4d0d"
      },
      "source": [
        "print(name[:3])\n",
        "taste = name[8:11]\n",
        "print(taste)"
      ],
      "execution_count": null,
      "outputs": [
        {
          "output_type": "stream",
          "text": [
            "크라운\n",
            "딸기맛\n"
          ],
          "name": "stdout"
        }
      ]
    },
    {
      "cell_type": "code",
      "metadata": {
        "id": "s1LySZt0lnV8",
        "colab_type": "code",
        "colab": {
          "base_uri": "https://localhost:8080/",
          "height": 52
        },
        "outputId": "c0c6adb6-bd1e-4449-a9a0-49d3d3df85eb"
      },
      "source": [
        "eDate = \"20.09.23\"\n",
        "eDate = eDate.replace(\".\", \"/\")\n",
        "eYear, eMonth, eDay = eDate.split(\"/\")\n",
        "print(eYear, eMonth, eDay)\n",
        "print(eDate)"
      ],
      "execution_count": null,
      "outputs": [
        {
          "output_type": "stream",
          "text": [
            "20 09 23\n",
            "20/09/23\n"
          ],
          "name": "stdout"
        }
      ]
    },
    {
      "cell_type": "code",
      "metadata": {
        "id": "pcGXxe7XnBbX",
        "colab_type": "code",
        "colab": {
          "base_uri": "https://localhost:8080/",
          "height": 52
        },
        "outputId": "cba17886-43dc-4c06-b5c9-3effe2e4783f"
      },
      "source": [
        "tDate = input(\"오늘 날짜는? yy.mm.dd : \")\n",
        "print(tDate)"
      ],
      "execution_count": null,
      "outputs": [
        {
          "output_type": "stream",
          "text": [
            "오늘 날짜는? yy.mm.dd : 20.06.23\n",
            "20.06.23\n"
          ],
          "name": "stdout"
        }
      ]
    },
    {
      "cell_type": "code",
      "metadata": {
        "id": "iSWXCOZnssSB",
        "colab_type": "code",
        "colab": {
          "base_uri": "https://localhost:8080/",
          "height": 52
        },
        "outputId": "292b7937-fcaa-4ce2-fd1c-0d0d71955a7d"
      },
      "source": [
        "tDate = tDate.replace(\".\", \"/\")\n",
        "tYear, tMonth, tDay = tDate.split(\"/\")\n",
        "print(tYear, tMonth, tDay)\n",
        "print(type(tDate))"
      ],
      "execution_count": null,
      "outputs": [
        {
          "output_type": "stream",
          "text": [
            "20 06 23\n",
            "<class 'str'>\n"
          ],
          "name": "stdout"
        }
      ]
    },
    {
      "cell_type": "code",
      "metadata": {
        "id": "O61Z8s1_tH7f",
        "colab_type": "code",
        "colab": {
          "base_uri": "https://localhost:8080/",
          "height": 52
        },
        "outputId": "18fa136a-725a-4029-cc61-a95b610454a6"
      },
      "source": [
        "if eMonth > tMonth:\n",
        "  print(\"먹어도 돼\")\n",
        "elif eMonth == tMonth:\n",
        "  if eDay > tDay:      # 일자를 비교해서 유통기한보다 날짜가 작으면\n",
        "    print(\"먹어도 돼\") # 먹어도 돼\n",
        "  else: \n",
        "    print(\"날짜가 지났어 먹지마\")    # 아니면 먹지마\n",
        "else:\n",
        "  print(\"먹지마\")\n",
        "print(\"the end\")"
      ],
      "execution_count": null,
      "outputs": [
        {
          "output_type": "stream",
          "text": [
            "먹어도 돼\n",
            "the end\n"
          ],
          "name": "stdout"
        }
      ]
    },
    {
      "cell_type": "code",
      "metadata": {
        "id": "_K_4KPUouaVy",
        "colab_type": "code",
        "colab": {
          "base_uri": "https://localhost:8080/",
          "height": 70
        },
        "outputId": "fe383c3b-003c-41ea-e6eb-d5dfeb85da0d"
      },
      "source": [
        "lst = [\"설탕\", \"합성향료(딸기)\", \"비타민C\"]\n",
        "print(type(lst), lst)\n",
        "print(lst[2])\n",
        "print(lst[1:3])"
      ],
      "execution_count": null,
      "outputs": [
        {
          "output_type": "stream",
          "text": [
            "<class 'list'> ['설탕', '합성향료(딸기)', '비타민C']\n",
            "비타민C\n",
            "['합성향료(딸기)', '비타민C']\n"
          ],
          "name": "stdout"
        }
      ]
    },
    {
      "cell_type": "code",
      "metadata": {
        "id": "oZVDfxA0z3M7",
        "colab_type": "code",
        "colab": {
          "base_uri": "https://localhost:8080/",
          "height": 34
        },
        "outputId": "b90baaf1-6ad8-4fcf-f42f-b3c93b37e520"
      },
      "source": [
        "lst.append(\"젤라틴\")\n",
        "print(lst)"
      ],
      "execution_count": null,
      "outputs": [
        {
          "output_type": "stream",
          "text": [
            "['설탕', '합성향료(딸기)', '비타민C', '젤라틴']\n"
          ],
          "name": "stdout"
        }
      ]
    },
    {
      "cell_type": "code",
      "metadata": {
        "id": "wkBy-R7u08PJ",
        "colab_type": "code",
        "colab": {
          "base_uri": "https://localhost:8080/",
          "height": 34
        },
        "outputId": "354c8292-c58e-4750-82df-d4e75acd1ffc"
      },
      "source": [
        "lst.insert(3, \"베리류 색소\")\n",
        "print(lst)"
      ],
      "execution_count": null,
      "outputs": [
        {
          "output_type": "stream",
          "text": [
            "['설탕', '합성향료(딸기)', '비타민C', '베리류 색소', '젤라틴']\n"
          ],
          "name": "stdout"
        }
      ]
    },
    {
      "cell_type": "code",
      "metadata": {
        "id": "6DKlRviM1TDO",
        "colab_type": "code",
        "colab": {
          "base_uri": "https://localhost:8080/",
          "height": 34
        },
        "outputId": "16dc923f-b83f-41b3-91fb-0be0d16ac0a5"
      },
      "source": [
        "# 합성향료(딸기맛)으로 바꿔보기\n",
        "lst[1] = \"합성향료(딸기맛)\"\n",
        "print(lst[1])"
      ],
      "execution_count": null,
      "outputs": [
        {
          "output_type": "stream",
          "text": [
            "합성향료(딸기맛)\n"
          ],
          "name": "stdout"
        }
      ]
    },
    {
      "cell_type": "code",
      "metadata": {
        "id": "mQwMQoNm1512",
        "colab_type": "code",
        "colab": {
          "base_uri": "https://localhost:8080/",
          "height": 34
        },
        "outputId": "7e87ea93-8705-49ad-8d51-23329bfcc0c9"
      },
      "source": [
        "# 합성향료(딸기맛)에 글자 \"향\"만 가져오기\n",
        "lst[1] = \"합성향료(딸기맛)\"\n",
        "print(lst[1][2])"
      ],
      "execution_count": null,
      "outputs": [
        {
          "output_type": "stream",
          "text": [
            "향\n"
          ],
          "name": "stdout"
        }
      ]
    },
    {
      "cell_type": "code",
      "metadata": {
        "id": "ZmeH7VbH2Ikd",
        "colab_type": "code",
        "colab": {
          "base_uri": "https://localhost:8080/",
          "height": 52
        },
        "outputId": "e058d487-97e5-42fe-d856-2693fa601657"
      },
      "source": [
        "# 리스트 삭제\n",
        "print(lst)\n",
        "# print(lst.pop(0))\n",
        "del lst[1]\n",
        "print(lst)"
      ],
      "execution_count": null,
      "outputs": [
        {
          "output_type": "stream",
          "text": [
            "['합성향료(딸기맛)', '비타민C', '베리류 색소', '젤라틴']\n",
            "['합성향료(딸기맛)', '베리류 색소', '젤라틴']\n"
          ],
          "name": "stdout"
        }
      ]
    },
    {
      "cell_type": "code",
      "metadata": {
        "id": "Vl6k8oZS2uBo",
        "colab_type": "code",
        "colab": {
          "base_uri": "https://localhost:8080/",
          "height": 34
        },
        "outputId": "941beb50-8166-45eb-a3de-04649c31ed87"
      },
      "source": [
        "# lst = [설탕, 합성향료(딸기맛), 비타민C, 젤라틴, 베리류색소]\n",
        "# insert(추가), append(뒤에 붙이기), pop(삭제)\n",
        "lst.insert(2, \"비타민C\")\n",
        "lst.insert(3, \"젤라틴\")\n",
        "# lst.append(\"베리류 색소\") 뒤에 붙는다.\n",
        "# lst.pop(2) 비타민C가 삭제된다.\n",
        "print(lst)"
      ],
      "execution_count": null,
      "outputs": [
        {
          "output_type": "stream",
          "text": [
            "['설탕', '합성향료(딸기맛)', '비타민C', '젤라틴', '베리류 색소']\n"
          ],
          "name": "stdout"
        }
      ]
    },
    {
      "cell_type": "code",
      "metadata": {
        "id": "sBwB3oUz3sB8",
        "colab_type": "code",
        "colab": {
          "base_uri": "https://localhost:8080/",
          "height": 34
        },
        "outputId": "27971e66-475b-4f00-8608-524d7909b8fd"
      },
      "source": [
        "# 정렬\n",
        "lst.sort() # 오름차순 정렬\n",
        "# lst.sort(reverse=True) 내림차순 정렬\n",
        "lst.reverse() # 내림차순 함수\n",
        "print(lst)"
      ],
      "execution_count": null,
      "outputs": [
        {
          "output_type": "stream",
          "text": [
            "['합성향료(딸기맛)', '젤라틴', '설탕', '비타민C', '베리류 색소']\n"
          ],
          "name": "stdout"
        }
      ]
    },
    {
      "cell_type": "code",
      "metadata": {
        "id": "FCaibzR-9SLI",
        "colab_type": "code",
        "colab": {
          "base_uri": "https://localhost:8080/",
          "height": 105
        },
        "outputId": "d45b22f9-90dc-4ed2-8d9c-47dcbbab0d56"
      },
      "source": [
        "for item in lst:\n",
        "  print(item)"
      ],
      "execution_count": null,
      "outputs": [
        {
          "output_type": "stream",
          "text": [
            "합성향료(딸기맛)\n",
            "젤라틴\n",
            "설탕\n",
            "비타민C\n",
            "베리류 색소\n"
          ],
          "name": "stdout"
        }
      ]
    },
    {
      "cell_type": "code",
      "metadata": {
        "id": "YCUOoOb1-8Gf",
        "colab_type": "code",
        "colab": {
          "base_uri": "https://localhost:8080/",
          "height": 70
        },
        "outputId": "2876e0ab-26f8-4a9d-c1e9-0622019d93e1"
      },
      "source": [
        "# 반복문(범위)\n",
        "for i in range(1,4): # range(1:4) => [1,2,3]\n",
        "  print(lst[i])"
      ],
      "execution_count": null,
      "outputs": [
        {
          "output_type": "stream",
          "text": [
            "젤라틴\n",
            "설탕\n",
            "비타민C\n"
          ],
          "name": "stdout"
        }
      ]
    },
    {
      "cell_type": "code",
      "metadata": {
        "id": "OZQ-D72F_lVb",
        "colab_type": "code",
        "colab": {
          "base_uri": "https://localhost:8080/",
          "height": 34
        },
        "outputId": "c8f2223d-ccba-4643-9134-27a18b031788"
      },
      "source": [
        "# 반복문(조건)\n",
        "idx = 0\n",
        "while idx < 5:\n",
        "  idx += 1 # idx = idx+1\n",
        "  if idx == 2:\n",
        "    continue\n",
        "  if idx == 3:\n",
        "    break\n",
        "  print(idx)"
      ],
      "execution_count": null,
      "outputs": [
        {
          "output_type": "stream",
          "text": [
            "1\n"
          ],
          "name": "stdout"
        }
      ]
    },
    {
      "cell_type": "markdown",
      "metadata": {
        "id": "stnsaM6SCXR7",
        "colab_type": "text"
      },
      "source": [
        "# 딕셔너리"
      ]
    },
    {
      "cell_type": "code",
      "metadata": {
        "id": "ZbF-PnbFAUsP",
        "colab_type": "code",
        "colab": {
          "base_uri": "https://localhost:8080/",
          "height": 34
        },
        "outputId": "3da6f028-bfaf-471d-89fc-2ddfecc93218"
      },
      "source": [
        "dict1 = {\"나트륨\":15, \"당류\":24, \"포화지방\":4.0}\n",
        "print(type(dict1), dict1)"
      ],
      "execution_count": null,
      "outputs": [
        {
          "output_type": "stream",
          "text": [
            "<class 'dict'> {'나트륨': 15, '당류': 24, '포화지방': 4.0}\n"
          ],
          "name": "stdout"
        }
      ]
    },
    {
      "cell_type": "code",
      "metadata": {
        "id": "1mp5pw_MC8cT",
        "colab_type": "code",
        "colab": {
          "base_uri": "https://localhost:8080/",
          "height": 52
        },
        "outputId": "cae73286-5c25-4e63-ed73-0db25e77b594"
      },
      "source": [
        "print(dict1[\"나트륨\"])\n",
        "dict1[\"나트륨\"]=20\n",
        "print(dict1[\"나트륨\"])"
      ],
      "execution_count": null,
      "outputs": [
        {
          "output_type": "stream",
          "text": [
            "15\n",
            "20\n"
          ],
          "name": "stdout"
        }
      ]
    },
    {
      "cell_type": "code",
      "metadata": {
        "id": "iWhoyPiQDU8p",
        "colab_type": "code",
        "colab": {
          "base_uri": "https://localhost:8080/",
          "height": 34
        },
        "outputId": "41e9a9f6-f72d-42b0-c3e0-cd834906b639"
      },
      "source": [
        "print(dict1.get(\"비타민C\"))"
      ],
      "execution_count": null,
      "outputs": [
        {
          "output_type": "stream",
          "text": [
            "None\n"
          ],
          "name": "stdout"
        }
      ]
    },
    {
      "cell_type": "code",
      "metadata": {
        "id": "dciTJm16D8qS",
        "colab_type": "code",
        "colab": {
          "base_uri": "https://localhost:8080/",
          "height": 52
        },
        "outputId": "ff3b9056-e40f-434d-d9ae-0e5f275325ae"
      },
      "source": [
        "print(dict1)\n",
        "dict1[\"비타민C\"]=44  #추가\n",
        "print(dict1)"
      ],
      "execution_count": null,
      "outputs": [
        {
          "output_type": "stream",
          "text": [
            "{'나트륨': 15, '당류': 24, '포화지방': 4.0}\n",
            "{'나트륨': 15, '당류': 24, '포화지방': 4.0, '비타민C': 44}\n"
          ],
          "name": "stdout"
        }
      ]
    },
    {
      "cell_type": "code",
      "metadata": {
        "id": "T0fWeHaNEk7H",
        "colab_type": "code",
        "colab": {
          "base_uri": "https://localhost:8080/",
          "height": 87
        },
        "outputId": "df222d37-af47-4ab3-8644-a5bfd1db0387"
      },
      "source": [
        "for k, v in dict1.items():\n",
        "  print(k, \"=\", v)"
      ],
      "execution_count": null,
      "outputs": [
        {
          "output_type": "stream",
          "text": [
            "나트륨 = 15\n",
            "당류 = 24\n",
            "포화지방 = 4.0\n",
            "비타민C = 44\n"
          ],
          "name": "stdout"
        }
      ]
    },
    {
      "cell_type": "code",
      "metadata": {
        "id": "LsmodZqgE2cB",
        "colab_type": "code",
        "colab": {
          "base_uri": "https://localhost:8080/",
          "height": 87
        },
        "outputId": "e3c51f25-d6f7-4888-c9f6-b316268c96e2"
      },
      "source": [
        "for item in dict1.items(): # 튜플\n",
        "  print(item)"
      ],
      "execution_count": null,
      "outputs": [
        {
          "output_type": "stream",
          "text": [
            "('나트륨', 15)\n",
            "('당류', 24)\n",
            "('포화지방', 4.0)\n",
            "('비타민C', 44)\n"
          ],
          "name": "stdout"
        }
      ]
    },
    {
      "cell_type": "code",
      "metadata": {
        "id": "iaGpaLN0GJQO",
        "colab_type": "code",
        "colab": {
          "base_uri": "https://localhost:8080/",
          "height": 70
        },
        "outputId": "d6a18d88-ed31-44fc-aa55-d52b3ff8cd2a"
      },
      "source": [
        "set1 = {1,2,3,4,4}\n",
        "set2 = {3,7,9}\n",
        "print(type(set1), set1)\n",
        "print(type(set2), set2)\n",
        "set3 = set(\"hello\")\n",
        "print(set3)"
      ],
      "execution_count": null,
      "outputs": [
        {
          "output_type": "stream",
          "text": [
            "<class 'set'> {1, 2, 3, 4}\n",
            "<class 'set'> {9, 3, 7}\n",
            "{'e', 'h', 'o', 'l'}\n"
          ],
          "name": "stdout"
        }
      ]
    },
    {
      "cell_type": "code",
      "metadata": {
        "id": "XiLtqpY0HV3_",
        "colab_type": "code",
        "colab": {
          "base_uri": "https://localhost:8080/",
          "height": 87
        },
        "outputId": "47ba8383-51ca-4242-875f-c80a23628927"
      },
      "source": [
        "print(set1&set2) #교집합\n",
        "print(set1^set2) #대칭 차집합\n",
        "print(set1|set2) #합집합\n",
        "print(set1-set2) #차집합"
      ],
      "execution_count": null,
      "outputs": [
        {
          "output_type": "stream",
          "text": [
            "{3}\n",
            "{1, 2, 4, 7, 9}\n",
            "{1, 2, 3, 4, 7, 9}\n",
            "{1, 2, 4}\n"
          ],
          "name": "stdout"
        }
      ]
    },
    {
      "cell_type": "markdown",
      "metadata": {
        "id": "q2BgIDQqJHyJ",
        "colab_type": "text"
      },
      "source": [
        "**기본 자료형--------------**\n",
        "\n",
        "int 정수\n",
        "\n",
        "float 실수\n",
        "\n",
        "str 문자열, 인덱싱/슬라이싱(순서0)\n",
        "\n",
        "**컬렉션 자료형------------**\n",
        "\n",
        "list [1,2,3,4] 순서0\n",
        "\n",
        "dict {key:value} => {\"이름\":\"마이쥬\"}\n",
        "\n",
        "tuple (1,2,3,4) 읽기전용\n",
        "\n",
        "set {1,2,3,4}"
      ]
    },
    {
      "cell_type": "code",
      "metadata": {
        "id": "qPBhdvTaIkJS",
        "colab_type": "code",
        "colab": {
          "base_uri": "https://localhost:8080/",
          "height": 70
        },
        "outputId": "47e015f6-3f53-4743-bc17-9f03d568fce9"
      },
      "source": [
        "tp1 = ()\n",
        "tp2 = (1,)\n",
        "tp3 = (1,2,3)\n",
        "print(type(tp1), tp1)\n",
        "print(type(tp2), tp2)\n",
        "print(type(tp3), tp3)"
      ],
      "execution_count": null,
      "outputs": [
        {
          "output_type": "stream",
          "text": [
            "<class 'tuple'> ()\n",
            "<class 'tuple'> (1,)\n",
            "<class 'tuple'> (1, 2, 3)\n"
          ],
          "name": "stdout"
        }
      ]
    },
    {
      "cell_type": "code",
      "metadata": {
        "id": "gfn3dp-UKg-0",
        "colab_type": "code",
        "colab": {}
      },
      "source": [
        ""
      ],
      "execution_count": null,
      "outputs": []
    }
  ]
}